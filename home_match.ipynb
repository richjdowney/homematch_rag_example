{
 "cells": [
  {
   "cell_type": "code",
   "execution_count": 84,
   "metadata": {},
   "outputs": [],
   "source": [
    "import os\n",
    "import json \n",
    "import ast\n",
    "import chromadb\n",
    "import pandas as pd\n",
    "\n",
    "from uuid import uuid4\n",
    "from openai import OpenAI\n",
    "\n",
    "from langchain_chroma import Chroma\n",
    "from langchain.prompts import PromptTemplate\n",
    "from langchain_core.prompts import ChatPromptTemplate\n",
    "from langchain.output_parsers import PydanticOutputParser\n",
    "from langchain_openai import ChatOpenAI\n",
    "from langchain.document_loaders import JSONLoader\n",
    "from langchain.embeddings.openai import OpenAIEmbeddings\n",
    "from langchain_core.output_parsers import StrOutputParser\n",
    "\n",
    "from helpers.generate_listings_helpers import ListingOutput\n",
    "from helpers.upload_to_vector_db_helpers import metadata_func\n",
    "from helpers.personalized_listings_helpers import AttributeParser, create_where_filter\n",
    "from helpers.utils import load_yaml_config, set_config_parameters\n",
    "\n",
    "os.environ[\"OPENAI_API_KEY\"] = \"voc-522165759126677351210066e73a00acdee9.58422824\"\n",
    "os.environ[\"OPENAI_API_BASE\"] = \"https://openai.vocareum.com/v1\""
   ]
  },
  {
   "cell_type": "code",
   "execution_count": 85,
   "metadata": {},
   "outputs": [],
   "source": [
    "client = OpenAI(\n",
    "  api_key=os.environ['OPENAI_API_KEY'],\n",
    "  base_url=os.environ[\"OPENAI_API_BASE\"]\n",
    ")\n",
    "\n",
    "llm = ChatOpenAI(max_tokens = 4000, temperature=0)"
   ]
  },
  {
   "cell_type": "code",
   "execution_count": 86,
   "metadata": {},
   "outputs": [],
   "source": [
    "# Read configuration Yaml\n",
    "yaml_file_path = \"./config.yaml\"\n",
    "config = load_yaml_config(yaml_file_path)\n",
    "set_config_parameters(config)"
   ]
  },
  {
   "attachments": {},
   "cell_type": "markdown",
   "metadata": {},
   "source": [
    "#### Generate real estate listings\n",
    "\n",
    "Generate 10 real estate listings using a Large Language Model"
   ]
  },
  {
   "cell_type": "code",
   "execution_count": 87,
   "metadata": {},
   "outputs": [],
   "source": [
    "parser = PydanticOutputParser(pydantic_object=ListingOutput)"
   ]
  },
  {
   "cell_type": "code",
   "execution_count": 88,
   "metadata": {},
   "outputs": [
    {
     "name": "stderr",
     "output_type": "stream",
     "text": [
      "/var/folders/fy/mvw_n2cj6x1gjt1t9fxjv0gw0000gp/T/ipykernel_31283/2905195512.py:1: DeprecationWarning: `input_variables' is deprecated and ignored.\n",
      "  generate_listings_prompt = PromptTemplate.from_file(\"./prompts/generate_listings_prompt.txt\", input_variables=[\n"
     ]
    }
   ],
   "source": [
    "generate_listings_prompt = PromptTemplate.from_file(\"./prompts/generate_listings_prompt.txt\", input_variables=[\n",
    "        \"property_types\",\n",
    "        \"neighborhoods\",\n",
    "        \"price_min\",\n",
    "        \"price_max\",\n",
    "        \"bedrooms_min\",\n",
    "        \"bedrooms_max\",\n",
    "        \"bathrooms_min\",\n",
    "        \"bathrooms_max\",\n",
    "        \"house_size_min\",\n",
    "        \"house_size_max\",\n",
    "        \"expensive\",\n",
    "        \"features\" \"listing_examples\",\n",
    "    ],\n",
    "    partial_variables={\"format_instructions\": parser.get_format_instructions()},) "
   ]
  },
  {
   "cell_type": "code",
   "execution_count": 89,
   "metadata": {},
   "outputs": [],
   "source": [
    "system_prompt = generate_listings_prompt.format(\n",
    "    property_types=config['PROPERTY_TYPES'],\n",
    "    neighborhoods=config['NEIGHBORHOODS'],\n",
    "    price_min=config['PRICE_MIN'],\n",
    "    price_max=config['PRICE_MAX'],\n",
    "    bedrooms_min=config['BEDROOMS_MIN'],\n",
    "    bedrooms_max=config['BEDROOMS_MAX'],\n",
    "    bathrooms_min=config['BATHROOMS_MIN'],\n",
    "    bathrooms_max=config['BATHROOMS_MAX'],\n",
    "    house_size_min=config['HOUSE_SIZE_MIN'],\n",
    "    house_size_max=config['HOUSE_SIZE_MAX'],\n",
    "    expensive=\",\".join(config['EXPENSIVE_NEIGHBORHOODS']),\n",
    "    features=\", \".join(config['FEATURES']),\n",
    "    neighborhood_descriptions=config['NEIGHBORHOOD_DESCRIPTIONS'],\n",
    "    listing_examples=\"\\n------------------------- \\n\".join(config['LISTING_EXAMPLES']),\n",
    "    format_instructions=parser.get_format_instructions()\n",
    ")"
   ]
  },
  {
   "cell_type": "code",
   "execution_count": 90,
   "metadata": {},
   "outputs": [],
   "source": [
    "listings_output = client.chat.completions.create(\n",
    "    model=\"gpt-3.5-turbo\",\n",
    "    messages=[\n",
    "        {\"role\": \"system\", \"content\": system_prompt},\n",
    "        {\n",
    "            \"role\": \"user\",\n",
    "            \"content\": \"Generate 10 listings following these guidelines. Make sure the property_description is very unique across examples\",\n",
    "        },\n",
    "    ],\n",
    "    temperature=0,\n",
    "    max_tokens=4000,\n",
    ")"
   ]
  },
  {
   "cell_type": "code",
   "execution_count": 91,
   "metadata": {},
   "outputs": [],
   "source": [
    "# Extract LLM output and format\n",
    "out = listings_output.choices[0].message.content\n",
    "out = out.replace(\"\\n\", \"\")\n",
    "out_format = ast.literal_eval(out)\n",
    "\n",
    "# Combine the property and neighborhood descriptions into a new field\n",
    "for item in out_format:\n",
    "    item['property_and_neighborhood_desc'] = item['property_description'] + item['neighborhood_description']\n",
    "\n",
    "# save to json\n",
    "with open(\"./output/sample_listings.json\", \"w\") as f:\n",
    "    json.dump({\"properties\": out_format}, f)"
   ]
  },
  {
   "attachments": {},
   "cell_type": "markdown",
   "metadata": {},
   "source": [
    "#### Store vectors in a Chroma Vector DB\n",
    "\n",
    "Set up a Chroma Vector DB instance, write the metadata about the property and the property and neighborhood descriptions as embedded vectors into the DB"
   ]
  },
  {
   "cell_type": "code",
   "execution_count": 93,
   "metadata": {},
   "outputs": [],
   "source": [
    "# Create langchain Documents with langchain document loader\n",
    "loader = JSONLoader(\n",
    "    file_path='./output/sample_listings.json',\n",
    "    jq_schema='.properties[]',\n",
    "    content_key=\"property_and_neighborhood_desc\",\n",
    "    metadata_func=metadata_func\n",
    ")\n",
    "\n",
    "\n",
    "documents = loader.load()"
   ]
  },
  {
   "cell_type": "code",
   "execution_count": 94,
   "metadata": {},
   "outputs": [
    {
     "data": {
      "text/plain": [
       "['57435bb1-59f1-4e3d-a54e-c8e145f00cce',\n",
       " 'b461cb8b-0553-4426-8ba7-80d456b9b9aa',\n",
       " '87af360d-0bd9-473f-b455-23dbfb9c1389',\n",
       " '856f23ab-eac7-4a8f-8efc-3fcbbf8b5d0d',\n",
       " '2bea86cd-2b67-4dcd-ae3f-df70f68b13b1',\n",
       " '6cf375f4-f7fb-4075-b42a-0d5a56b8283b',\n",
       " '90478e80-dca0-417a-86c3-cfaa3c8492fc',\n",
       " '75f52d2a-fccf-4c8b-87d3-f8c0e2816402',\n",
       " '20657f8a-425c-481f-8f9c-00f46f5099d9',\n",
       " '8eecf272-94c8-45f8-a39c-416d8f1cc05d',\n",
       " 'ff0d9787-d0dd-4f0b-bc4e-01e119f396f4']"
      ]
     },
     "execution_count": 94,
     "metadata": {},
     "output_type": "execute_result"
    }
   ],
   "source": [
    "# Upload to Vector DB\n",
    "chroma_client = chromadb.Client()\n",
    "# chroma_client.delete_collection(\"home_match\")\n",
    "\n",
    "try:\n",
    "    collection = chroma_client.get_collection(name=\"home_match\")\n",
    "except:\n",
    "    collection = collection = chroma_client.create_collection(name=\"home_match\")\n",
    "\n",
    "embeddings = OpenAIEmbeddings(model=\"text-embedding-3-large\")\n",
    "\n",
    "vector_store_from_client = Chroma(\n",
    "    client=chroma_client,\n",
    "    collection_name=\"home_match\",\n",
    "    embedding_function=embeddings,\n",
    ")\n",
    "\n",
    "uuids = [str(uuid4()) for _ in range(len(documents))]\n",
    "\n",
    "vector_store_from_client.add_documents(documents=documents, ids=uuids)"
   ]
  },
  {
   "attachments": {},
   "cell_type": "markdown",
   "metadata": {},
   "source": [
    "#### Retrieve personalized listings\n",
    "\n",
    "Retrieves personalized listings based on hard coded questions and answers in config.\n",
    "\n",
    "Parse the output into a structured format (Pandas DataFrame) to be sent to downstream applications"
   ]
  },
  {
   "cell_type": "code",
   "execution_count": 95,
   "metadata": {},
   "outputs": [],
   "source": [
    "# Set up structured LLM to provide the structured output needed for the Vector DB search\n",
    "structured_llm = llm.with_structured_output(AttributeParser)"
   ]
  },
  {
   "cell_type": "code",
   "execution_count": 97,
   "metadata": {},
   "outputs": [
    {
     "name": "stderr",
     "output_type": "stream",
     "text": [
      "/var/folders/fy/mvw_n2cj6x1gjt1t9fxjv0gw0000gp/T/ipykernel_31283/2426287476.py:2: DeprecationWarning: `input_variables' is deprecated and ignored.\n",
      "  personalization_system_prompt = PromptTemplate.from_file(\n"
     ]
    }
   ],
   "source": [
    "# Get personalization system prompt\n",
    "personalization_system_prompt = PromptTemplate.from_file(\n",
    "    \"./prompts/personalization_system_prompt.txt\",\n",
    "    input_variables=[\n",
    "        \"attribute_questions\",\n",
    "        \"attributed_answers\",\n",
    "    ],\n",
    ")\n",
    "\n",
    "personalization_system_prompt = personalization_system_prompt.format(\n",
    "    attribute_questions=config[\"ATTRIBUTE_QUESTIONS\"],\n",
    "    attribute_answers=config[\"ATTRIBUTE_ANSWERS\"],\n",
    ")"
   ]
  },
  {
   "cell_type": "code",
   "execution_count": 98,
   "metadata": {},
   "outputs": [],
   "source": [
    "# Get the input for the vector DB search from the LLM\n",
    "structured_input = structured_llm.invoke(personalization_system_prompt)\n",
    "\n",
    "# Parse the output into a where filter for chroma DB\n",
    "filter = create_where_filter(structured_input)\n",
    "all_answers = \": \".join(config[\"ATTRIBUTE_ANSWERS\"])"
   ]
  },
  {
   "cell_type": "code",
   "execution_count": 14,
   "metadata": {},
   "outputs": [],
   "source": [
    "# Retrieve personalized output\n",
    "results = vector_store_from_client.similarity_search(\n",
    "    all_answers,\n",
    "    k=2,\n",
    "    filter=json.loads(filter),\n",
    ")"
   ]
  },
  {
   "cell_type": "code",
   "execution_count": 99,
   "metadata": {},
   "outputs": [
    {
     "data": {
      "text/plain": [
       "[Document(metadata={'bathrooms': 2, 'bedrooms': 4, 'house_size': 2200, 'neighborhood': 'Noe Valley', 'neighborhood_description': \"Noe Valley is a charming and family-friendly neighborhood in San Francisco, known for its tree-lined streets, Victorian cottages, and vibrant community. If you're looking to buy a home, Noe Valley offers a peaceful and idyllic setting, with excellent schools, parks, and amenities. While housing prices can be competitive, the neighborhood's strong sense of community, proximity to popular attractions, and beautiful surroundings make it a highly desirable choice for those seeking a family-friendly and welcoming atmosphere.\", 'price': 1700000, 'property_description': 'This Noe Valley gem offers a blend of modern elegance and classic charm. The open living area features a gas fireplace and French doors leading to a sunny deck. The gourmet kitchen is equipped with stainless steel appliances, quartz countertops, and a large island. The master suite boasts a walk-in closet and a spa-like bathroom with a jetted tub. Enjoy the landscaped backyard with a fire pit and a hot tub, perfect for relaxing or entertaining. Additional features include a home office, a wine cellar, and a two-car garage.', 'seq_num': 10, 'source': '/Users/richarddowney/Documents/real_estate_gen_ai_project/sample_listings.json'}, page_content=\"This Noe Valley gem offers a blend of modern elegance and classic charm. The open living area features a gas fireplace and French doors leading to a sunny deck. The gourmet kitchen is equipped with stainless steel appliances, quartz countertops, and a large island. The master suite boasts a walk-in closet and a spa-like bathroom with a jetted tub. Enjoy the landscaped backyard with a fire pit and a hot tub, perfect for relaxing or entertaining. Additional features include a home office, a wine cellar, and a two-car garage.Noe Valley is a charming and family-friendly neighborhood in San Francisco, known for its tree-lined streets, Victorian cottages, and vibrant community. If you're looking to buy a home, Noe Valley offers a peaceful and idyllic setting, with excellent schools, parks, and amenities. While housing prices can be competitive, the neighborhood's strong sense of community, proximity to popular attractions, and beautiful surroundings make it a highly desirable choice for those seeking a family-friendly and welcoming atmosphere.\"),\n",
       " Document(metadata={'bathrooms': 2, 'bedrooms': 3, 'house_size': 2000, 'neighborhood': 'Potrero Hill', 'neighborhood_description': \"Potrero Hill is a vibrant and rapidly developing neighborhood in San Francisco, known for its stunning views of the city skyline and the bay. If you're looking to buy a home, Potrero Hill offers a mix of historic buildings, modern condos, and trendy lofts. While housing prices can be on the higher side, the neighborhood's proximity to popular attractions, vibrant atmosphere, and stunning views make it a desirable place to live. With its growing popularity, Potrero Hill offers a unique opportunity to be part of a thriving and dynamic community.\", 'price': 1500000, 'property_description': \"Perched on Potrero Hill, this modern home offers breathtaking views of the city skyline. The open-concept living area features floor-to-ceiling windows and a sleek fireplace. The chef's kitchen is equipped with high-end appliances and a large island. The master suite boasts a private terrace, a walk-in closet, and a spa-like bathroom with a rain shower. Enjoy the outdoor oasis with a landscaped garden, a fire pit, and a hot tub. Other features include a home gym, a wine cellar, and a two-car garage.\", 'seq_num': 3, 'source': '/Users/richarddowney/Documents/real_estate_gen_ai_project/sample_listings.json'}, page_content=\"Perched on Potrero Hill, this modern home offers breathtaking views of the city skyline. The open-concept living area features floor-to-ceiling windows and a sleek fireplace. The chef's kitchen is equipped with high-end appliances and a large island. The master suite boasts a private terrace, a walk-in closet, and a spa-like bathroom with a rain shower. Enjoy the outdoor oasis with a landscaped garden, a fire pit, and a hot tub. Other features include a home gym, a wine cellar, and a two-car garage.Potrero Hill is a vibrant and rapidly developing neighborhood in San Francisco, known for its stunning views of the city skyline and the bay. If you're looking to buy a home, Potrero Hill offers a mix of historic buildings, modern condos, and trendy lofts. While housing prices can be on the higher side, the neighborhood's proximity to popular attractions, vibrant atmosphere, and stunning views make it a desirable place to live. With its growing popularity, Potrero Hill offers a unique opportunity to be part of a thriving and dynamic community.\")]"
      ]
     },
     "execution_count": 99,
     "metadata": {},
     "output_type": "execute_result"
    }
   ],
   "source": [
    "results"
   ]
  },
  {
   "cell_type": "code",
   "execution_count": 100,
   "metadata": {},
   "outputs": [],
   "source": [
    "# Parse personalized output\n",
    "column_names = [\n",
    "    \"neighborhood\",\n",
    "    \"price\",\n",
    "    \"bedrooms\",\n",
    "    \"bathrooms\",\n",
    "    \"size\",\n",
    "    \"property_description\",\n",
    "    \"neighborhood_description\",\n",
    "]\n",
    "recommendations_df = pd.DataFrame(columns=column_names)\n",
    "\n",
    "for i, res in enumerate(results):\n",
    "    recommendations_df.loc[i, \"neighborhood\"] = res.metadata[\"neighborhood\"]\n",
    "    recommendations_df.loc[i, \"price\"] = res.metadata[\"price\"]\n",
    "    recommendations_df.loc[i, \"bedrooms\"] = res.metadata[\"bedrooms\"]\n",
    "    recommendations_df.loc[i, \"bathrooms\"] = res.metadata[\"bathrooms\"]\n",
    "    recommendations_df.loc[i, \"size\"] = res.metadata[\"house_size\"]\n",
    "    recommendations_df.loc[i, \"property_description\"] = res.metadata[\n",
    "        \"property_description\"\n",
    "    ]\n",
    "    recommendations_df.loc[i, \"neighborhood_description\"] = res.metadata[\n",
    "        \"neighborhood_description\"\n",
    "    ]"
   ]
  },
  {
   "cell_type": "code",
   "execution_count": 101,
   "metadata": {},
   "outputs": [
    {
     "data": {
      "text/html": [
       "<div>\n",
       "<style scoped>\n",
       "    .dataframe tbody tr th:only-of-type {\n",
       "        vertical-align: middle;\n",
       "    }\n",
       "\n",
       "    .dataframe tbody tr th {\n",
       "        vertical-align: top;\n",
       "    }\n",
       "\n",
       "    .dataframe thead th {\n",
       "        text-align: right;\n",
       "    }\n",
       "</style>\n",
       "<table border=\"1\" class=\"dataframe\">\n",
       "  <thead>\n",
       "    <tr style=\"text-align: right;\">\n",
       "      <th></th>\n",
       "      <th>neighborhood</th>\n",
       "      <th>price</th>\n",
       "      <th>bedrooms</th>\n",
       "      <th>bathrooms</th>\n",
       "      <th>size</th>\n",
       "      <th>property_description</th>\n",
       "      <th>neighborhood_description</th>\n",
       "    </tr>\n",
       "  </thead>\n",
       "  <tbody>\n",
       "    <tr>\n",
       "      <th>0</th>\n",
       "      <td>Noe Valley</td>\n",
       "      <td>1700000</td>\n",
       "      <td>4</td>\n",
       "      <td>2</td>\n",
       "      <td>2200</td>\n",
       "      <td>This Noe Valley gem offers a blend of modern elegance and classic charm. The open living area features a gas fireplace and French doors leading to a sunny deck. The gourmet kitchen is equipped with stainless steel appliances, quartz countertops, and a large island. The master suite boasts a walk-in closet and a spa-like bathroom with a jetted tub. Enjoy the landscaped backyard with a fire pit and a hot tub, perfect for relaxing or entertaining. Additional features include a home office, a wine cellar, and a two-car garage.</td>\n",
       "      <td>Noe Valley is a charming and family-friendly neighborhood in San Francisco, known for its tree-lined streets, Victorian cottages, and vibrant community. If you're looking to buy a home, Noe Valley offers a peaceful and idyllic setting, with excellent schools, parks, and amenities. While housing prices can be competitive, the neighborhood's strong sense of community, proximity to popular attractions, and beautiful surroundings make it a highly desirable choice for those seeking a family-friendly and welcoming atmosphere.</td>\n",
       "    </tr>\n",
       "    <tr>\n",
       "      <th>1</th>\n",
       "      <td>Potrero Hill</td>\n",
       "      <td>1500000</td>\n",
       "      <td>3</td>\n",
       "      <td>2</td>\n",
       "      <td>2000</td>\n",
       "      <td>Perched on Potrero Hill, this modern home offers breathtaking views of the city skyline. The open-concept living area features floor-to-ceiling windows and a sleek fireplace. The chef's kitchen is equipped with high-end appliances and a large island. The master suite boasts a private terrace, a walk-in closet, and a spa-like bathroom with a rain shower. Enjoy the outdoor oasis with a landscaped garden, a fire pit, and a hot tub. Other features include a home gym, a wine cellar, and a two-car garage.</td>\n",
       "      <td>Potrero Hill is a vibrant and rapidly developing neighborhood in San Francisco, known for its stunning views of the city skyline and the bay. If you're looking to buy a home, Potrero Hill offers a mix of historic buildings, modern condos, and trendy lofts. While housing prices can be on the higher side, the neighborhood's proximity to popular attractions, vibrant atmosphere, and stunning views make it a desirable place to live. With its growing popularity, Potrero Hill offers a unique opportunity to be part of a thriving and dynamic community.</td>\n",
       "    </tr>\n",
       "  </tbody>\n",
       "</table>\n",
       "</div>"
      ],
      "text/plain": [
       "   neighborhood    price bedrooms bathrooms  size  \\\n",
       "0    Noe Valley  1700000        4         2  2200   \n",
       "1  Potrero Hill  1500000        3         2  2000   \n",
       "\n",
       "                                                                                                                                                                                                                                                                                                                                                                                                                                                                                                                               property_description  \\\n",
       "0  This Noe Valley gem offers a blend of modern elegance and classic charm. The open living area features a gas fireplace and French doors leading to a sunny deck. The gourmet kitchen is equipped with stainless steel appliances, quartz countertops, and a large island. The master suite boasts a walk-in closet and a spa-like bathroom with a jetted tub. Enjoy the landscaped backyard with a fire pit and a hot tub, perfect for relaxing or entertaining. Additional features include a home office, a wine cellar, and a two-car garage.   \n",
       "1                          Perched on Potrero Hill, this modern home offers breathtaking views of the city skyline. The open-concept living area features floor-to-ceiling windows and a sleek fireplace. The chef's kitchen is equipped with high-end appliances and a large island. The master suite boasts a private terrace, a walk-in closet, and a spa-like bathroom with a rain shower. Enjoy the outdoor oasis with a landscaped garden, a fire pit, and a hot tub. Other features include a home gym, a wine cellar, and a two-car garage.   \n",
       "\n",
       "                                                                                                                                                                                                                                                                                                                                                                                                                                                                                                                                                neighborhood_description  \n",
       "0                          Noe Valley is a charming and family-friendly neighborhood in San Francisco, known for its tree-lined streets, Victorian cottages, and vibrant community. If you're looking to buy a home, Noe Valley offers a peaceful and idyllic setting, with excellent schools, parks, and amenities. While housing prices can be competitive, the neighborhood's strong sense of community, proximity to popular attractions, and beautiful surroundings make it a highly desirable choice for those seeking a family-friendly and welcoming atmosphere.  \n",
       "1  Potrero Hill is a vibrant and rapidly developing neighborhood in San Francisco, known for its stunning views of the city skyline and the bay. If you're looking to buy a home, Potrero Hill offers a mix of historic buildings, modern condos, and trendy lofts. While housing prices can be on the higher side, the neighborhood's proximity to popular attractions, vibrant atmosphere, and stunning views make it a desirable place to live. With its growing popularity, Potrero Hill offers a unique opportunity to be part of a thriving and dynamic community.  "
      ]
     },
     "execution_count": 101,
     "metadata": {},
     "output_type": "execute_result"
    }
   ],
   "source": [
    "recommendations_df"
   ]
  },
  {
   "attachments": {},
   "cell_type": "markdown",
   "metadata": {},
   "source": [
    "#### Augment propoerty description\n",
    "\n",
    "Summarize the provided user preferences from the questions.  Augment the property description to highlight the attributes specified by the user."
   ]
  },
  {
   "cell_type": "code",
   "execution_count": 102,
   "metadata": {},
   "outputs": [],
   "source": [
    "# Create a summary of the user preferences\n",
    "prompt = ChatPromptTemplate.from_messages(\n",
    "    [\n",
    "        (\n",
    "            \"system\",\n",
    "            \"You are an AI agent that can summarize user preferences from a list of questions.\",\n",
    "        ),\n",
    "        (\"user\", \"{input}\"),\n",
    "    ]\n",
    ")\n",
    "\n",
    "output_parser = StrOutputParser()\n",
    "chain = prompt | llm | output_parser\n",
    "\n",
    "answers = config[\"ATTRIBUTE_ANSWERS\"][2:4]\n",
    "questions = config[\"ATTRIBUTE_QUESTIONS\"][2:4]\n",
    "\n",
    "summary_user_preferences = chain.invoke(\n",
    "    input=f\"Given the following {answers}:\\n\\n to these questions: \\n\\n {questions} summarize the user preferences given in the answers\"\n",
    ")"
   ]
  },
  {
   "cell_type": "code",
   "execution_count": 103,
   "metadata": {},
   "outputs": [
    {
     "data": {
      "text/plain": [
       "'User preferences can be summarized as follows:\\n- The user values a quiet neighborhood, good local schools, and convenient shopping options as the top priorities in choosing a property.\\n- The user desires a backyard for gardening, a home office, and a large remodeled kitchen for entertaining as preferred amenities.'"
      ]
     },
     "execution_count": 103,
     "metadata": {},
     "output_type": "execute_result"
    }
   ],
   "source": [
    "summary_user_preferences"
   ]
  },
  {
   "cell_type": "code",
   "execution_count": 105,
   "metadata": {},
   "outputs": [
    {
     "name": "stderr",
     "output_type": "stream",
     "text": [
      "/var/folders/fy/mvw_n2cj6x1gjt1t9fxjv0gw0000gp/T/ipykernel_31283/1456546672.py:17: DeprecationWarning: `input_variables' is deprecated and ignored.\n",
      "  augmentation_prompt = PromptTemplate.from_file(\n",
      "/var/folders/fy/mvw_n2cj6x1gjt1t9fxjv0gw0000gp/T/ipykernel_31283/1456546672.py:17: DeprecationWarning: `input_variables' is deprecated and ignored.\n",
      "  augmentation_prompt = PromptTemplate.from_file(\n"
     ]
    }
   ],
   "source": [
    "# Augment the descriptions\n",
    "\n",
    "for i, desc in enumerate(recommendations_df[\"property_description\"].values):\n",
    "    prompt = ChatPromptTemplate.from_messages(\n",
    "        [\n",
    "            (\n",
    "                \"system\",\n",
    "                \"You are an AI agent that can take existing descriptions of real estate properties and highlight property attributes relevant to users based on supplied preferences\",\n",
    "            ),\n",
    "            (\"user\", \"{input}\"),\n",
    "        ]\n",
    "    )\n",
    "\n",
    "    chain = prompt | llm\n",
    "\n",
    "    # Get augmentation prompt from the file\n",
    "    augmentation_prompt = PromptTemplate.from_file(\n",
    "        \"./prompts/augmentation_prompt.txt\",\n",
    "        input_variables=[\n",
    "            \"recommendations\",\n",
    "            \"summary_user_preferences\",\n",
    "        ],\n",
    "    )\n",
    "\n",
    "    augmentation_prompt = augmentation_prompt.format(\n",
    "        recommendation=desc,\n",
    "        summary_user_preferences=summary_user_preferences,\n",
    "    )\n",
    "\n",
    "    augmented_description = chain.invoke(input=augmentation_prompt)\n",
    "\n",
    "    recommendations_df.loc[i, \"augmented_description\"] = augmented_description.content"
   ]
  },
  {
   "cell_type": "code",
   "execution_count": 106,
   "metadata": {},
   "outputs": [
    {
     "data": {
      "text/html": [
       "<div>\n",
       "<style scoped>\n",
       "    .dataframe tbody tr th:only-of-type {\n",
       "        vertical-align: middle;\n",
       "    }\n",
       "\n",
       "    .dataframe tbody tr th {\n",
       "        vertical-align: top;\n",
       "    }\n",
       "\n",
       "    .dataframe thead th {\n",
       "        text-align: right;\n",
       "    }\n",
       "</style>\n",
       "<table border=\"1\" class=\"dataframe\">\n",
       "  <thead>\n",
       "    <tr style=\"text-align: right;\">\n",
       "      <th></th>\n",
       "      <th>neighborhood</th>\n",
       "      <th>price</th>\n",
       "      <th>bedrooms</th>\n",
       "      <th>bathrooms</th>\n",
       "      <th>size</th>\n",
       "      <th>property_description</th>\n",
       "      <th>neighborhood_description</th>\n",
       "      <th>augmented_description</th>\n",
       "    </tr>\n",
       "  </thead>\n",
       "  <tbody>\n",
       "    <tr>\n",
       "      <th>0</th>\n",
       "      <td>Noe Valley</td>\n",
       "      <td>1700000</td>\n",
       "      <td>4</td>\n",
       "      <td>2</td>\n",
       "      <td>2200</td>\n",
       "      <td>This Noe Valley gem offers a blend of modern elegance and classic charm. The open living area features a gas fireplace and French doors leading to a sunny deck. The gourmet kitchen is equipped with stainless steel appliances, quartz countertops, and a large island. The master suite boasts a walk-in closet and a spa-like bathroom with a jetted tub. Enjoy the landscaped backyard with a fire pit and a hot tub, perfect for relaxing or entertaining. Additional features include a home office, a wine cellar, and a two-car garage.</td>\n",
       "      <td>Noe Valley is a charming and family-friendly neighborhood in San Francisco, known for its tree-lined streets, Victorian cottages, and vibrant community. If you're looking to buy a home, Noe Valley offers a peaceful and idyllic setting, with excellent schools, parks, and amenities. While housing prices can be competitive, the neighborhood's strong sense of community, proximity to popular attractions, and beautiful surroundings make it a highly desirable choice for those seeking a family-friendly and welcoming atmosphere.</td>\n",
       "      <td>This Noe Valley gem features a landscaped backyard with a fire pit and a hot tub, perfect for relaxing or entertaining. The gourmet kitchen, equipped with stainless steel appliances, quartz countertops, and a large island, is ideal for hosting gatherings. Additionally, the home includes a home office, perfect for remote work, and a wine cellar for enthusiasts. The property also offers a two-car garage for convenience.</td>\n",
       "    </tr>\n",
       "    <tr>\n",
       "      <th>1</th>\n",
       "      <td>Potrero Hill</td>\n",
       "      <td>1500000</td>\n",
       "      <td>3</td>\n",
       "      <td>2</td>\n",
       "      <td>2000</td>\n",
       "      <td>Perched on Potrero Hill, this modern home offers breathtaking views of the city skyline. The open-concept living area features floor-to-ceiling windows and a sleek fireplace. The chef's kitchen is equipped with high-end appliances and a large island. The master suite boasts a private terrace, a walk-in closet, and a spa-like bathroom with a rain shower. Enjoy the outdoor oasis with a landscaped garden, a fire pit, and a hot tub. Other features include a home gym, a wine cellar, and a two-car garage.</td>\n",
       "      <td>Potrero Hill is a vibrant and rapidly developing neighborhood in San Francisco, known for its stunning views of the city skyline and the bay. If you're looking to buy a home, Potrero Hill offers a mix of historic buildings, modern condos, and trendy lofts. While housing prices can be on the higher side, the neighborhood's proximity to popular attractions, vibrant atmosphere, and stunning views make it a desirable place to live. With its growing popularity, Potrero Hill offers a unique opportunity to be part of a thriving and dynamic community.</td>\n",
       "      <td>Nestled atop Potrero Hill, this modern sanctuary offers stunning views of the city skyline. Step into the open-concept living area with expansive floor-to-ceiling windows that flood the space with natural light. The chef's kitchen, complete with high-end appliances and a spacious island, is perfect for entertaining guests. Retreat to the master suite featuring a private terrace and a luxurious spa-like bathroom with a rain shower. Outside, discover an outdoor oasis with a beautifully landscaped garden, ideal for gardening enthusiasts. Additional highlights include a home gym, a wine cellar, and a two-car garage for added convenience.</td>\n",
       "    </tr>\n",
       "  </tbody>\n",
       "</table>\n",
       "</div>"
      ],
      "text/plain": [
       "   neighborhood    price bedrooms bathrooms  size  \\\n",
       "0    Noe Valley  1700000        4         2  2200   \n",
       "1  Potrero Hill  1500000        3         2  2000   \n",
       "\n",
       "                                                                                                                                                                                                                                                                                                                                                                                                                                                                                                                               property_description  \\\n",
       "0  This Noe Valley gem offers a blend of modern elegance and classic charm. The open living area features a gas fireplace and French doors leading to a sunny deck. The gourmet kitchen is equipped with stainless steel appliances, quartz countertops, and a large island. The master suite boasts a walk-in closet and a spa-like bathroom with a jetted tub. Enjoy the landscaped backyard with a fire pit and a hot tub, perfect for relaxing or entertaining. Additional features include a home office, a wine cellar, and a two-car garage.   \n",
       "1                          Perched on Potrero Hill, this modern home offers breathtaking views of the city skyline. The open-concept living area features floor-to-ceiling windows and a sleek fireplace. The chef's kitchen is equipped with high-end appliances and a large island. The master suite boasts a private terrace, a walk-in closet, and a spa-like bathroom with a rain shower. Enjoy the outdoor oasis with a landscaped garden, a fire pit, and a hot tub. Other features include a home gym, a wine cellar, and a two-car garage.   \n",
       "\n",
       "                                                                                                                                                                                                                                                                                                                                                                                                                                                                                                                                                neighborhood_description  \\\n",
       "0                          Noe Valley is a charming and family-friendly neighborhood in San Francisco, known for its tree-lined streets, Victorian cottages, and vibrant community. If you're looking to buy a home, Noe Valley offers a peaceful and idyllic setting, with excellent schools, parks, and amenities. While housing prices can be competitive, the neighborhood's strong sense of community, proximity to popular attractions, and beautiful surroundings make it a highly desirable choice for those seeking a family-friendly and welcoming atmosphere.   \n",
       "1  Potrero Hill is a vibrant and rapidly developing neighborhood in San Francisco, known for its stunning views of the city skyline and the bay. If you're looking to buy a home, Potrero Hill offers a mix of historic buildings, modern condos, and trendy lofts. While housing prices can be on the higher side, the neighborhood's proximity to popular attractions, vibrant atmosphere, and stunning views make it a desirable place to live. With its growing popularity, Potrero Hill offers a unique opportunity to be part of a thriving and dynamic community.   \n",
       "\n",
       "                                                                                                                                                                                                                                                                                                                                                                                                                                                                                                                                                                                                                                               augmented_description  \n",
       "0                                                                                                                                                                                                                              This Noe Valley gem features a landscaped backyard with a fire pit and a hot tub, perfect for relaxing or entertaining. The gourmet kitchen, equipped with stainless steel appliances, quartz countertops, and a large island, is ideal for hosting gatherings. Additionally, the home includes a home office, perfect for remote work, and a wine cellar for enthusiasts. The property also offers a two-car garage for convenience.  \n",
       "1  Nestled atop Potrero Hill, this modern sanctuary offers stunning views of the city skyline. Step into the open-concept living area with expansive floor-to-ceiling windows that flood the space with natural light. The chef's kitchen, complete with high-end appliances and a spacious island, is perfect for entertaining guests. Retreat to the master suite featuring a private terrace and a luxurious spa-like bathroom with a rain shower. Outside, discover an outdoor oasis with a beautifully landscaped garden, ideal for gardening enthusiasts. Additional highlights include a home gym, a wine cellar, and a two-car garage for added convenience.  "
      ]
     },
     "execution_count": 106,
     "metadata": {},
     "output_type": "execute_result"
    }
   ],
   "source": [
    "pd.set_option('display.max_colwidth', None)\n",
    "recommendations_df"
   ]
  },
  {
   "cell_type": "code",
   "execution_count": 107,
   "metadata": {},
   "outputs": [],
   "source": [
    "recommendations_df.to_csv(\"./output/final_recommendations.csv\")"
   ]
  },
  {
   "cell_type": "code",
   "execution_count": null,
   "metadata": {},
   "outputs": [],
   "source": []
  }
 ],
 "metadata": {
  "kernelspec": {
   "display_name": ".venv",
   "language": "python",
   "name": "python3"
  },
  "language_info": {
   "codemirror_mode": {
    "name": "ipython",
    "version": 3
   },
   "file_extension": ".py",
   "mimetype": "text/x-python",
   "name": "python",
   "nbconvert_exporter": "python",
   "pygments_lexer": "ipython3",
   "version": "3.10.9"
  },
  "orig_nbformat": 4
 },
 "nbformat": 4,
 "nbformat_minor": 2
}
